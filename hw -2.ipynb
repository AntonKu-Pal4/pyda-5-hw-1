{
 "cells": [
  {
   "cell_type": "code",
   "execution_count": 4,
   "metadata": {},
   "outputs": [
    {
     "name": "stdout",
     "output_type": "stream",
     "text": [
      "sy\n"
     ]
    }
   ],
   "source": [
    "# задача 1\n",
    "\n",
    "word = '111111111111111sy111111111111111'\n",
    "t = len (word) // 2\n",
    "if len(word) % 2 != 0:\n",
    "    print(word[t])\n",
    "else:\n",
    "    print(word[t-1:t+1])\n",
    "    \n",
    "# мучал задачу полтора часа, уроки посмотрел два дня назад и уже все вылетело из головы. \n"
   ]
  },
  {
   "cell_type": "code",
   "execution_count": 2,
   "metadata": {},
   "outputs": [
    {
     "name": "stdout",
     "output_type": "stream",
     "text": [
      "x = 2\n",
      "x = 3\n",
      "x = 4\n",
      "x = 0\n",
      "loading\n",
      "Результат: 9\n"
     ]
    }
   ],
   "source": [
    "#задача 2 Тоже мучал долго, зашел в slack группу, понял что делал правильно, но не могу сложить предыдущие числа\n",
    "\n",
    "x = int(input('x = '))\n",
    "y = x\n",
    "while x != 0:\n",
    "    x = int(input('x = '))\n",
    "    y += x \n",
    "else:\n",
    "    print('loading')\n",
    "    print (f'Результат: {y}')\n",
    "\n",
    "\n"
   ]
  },
  {
   "cell_type": "code",
   "execution_count": 5,
   "metadata": {},
   "outputs": [
    {
     "name": "stdout",
     "output_type": "stream",
     "text": [
      "Alex и Emma\n",
      "Ivan и Kate\n",
      "John и Kira\n",
      "Peter и Liza\n",
      "Richard и Trisha\n"
     ]
    }
   ],
   "source": [
    "# Задача 3\n",
    "boys = ['Peter', 'Alex', 'John', 'Ivan', 'Richard']\n",
    "girls = ['Kate', 'Liza', 'Kira', 'Emma', 'Trisha']\n",
    "if len(boys) == len(girls):\n",
    "    boys_girls = zip(sorted(boys), sorted(girls)) \n",
    "    for para in list(boys_girls):\n",
    "        print(para[0], 'и', para[1])\n",
    "else:\n",
    "    print('Внимание, кто-то может остаться без пары!')"
   ]
  },
  {
   "cell_type": "code",
   "execution_count": 1,
   "metadata": {},
   "outputs": [
    {
     "name": "stdout",
     "output_type": "stream",
     "text": [
      "Thailand - 23.9 C\n",
      "Germany - 13.8 C\n",
      "Russia - 3.7 C\n",
      "Poland - 12.0 C\n"
     ]
    }
   ],
   "source": [
    "# Задача 4:\n",
    "    \n",
    "countries_temperature = [\n",
    "    ['Thailand', [75.2, 77, 78.8, 73.4, 68, 75.2, 77]],\n",
    "    ['Germany', [57.2, 55.4, 59, 59, 53.6]],\n",
    "    ['Russia', [35.6, 37.4, 39.2, 41, 42.8, 39.2, 35.6]],\n",
    "    ['Poland', [50, 50, 53.6, 57.2, 55.4, 55.4]]\n",
    "]\n",
    "\n",
    "\n",
    "for strana in countries_temperature:\n",
    "    for temp in strana[1]:\n",
    "            F = sum(strana[1]) / len(strana[1])\n",
    "            C = round(((F - 32) / 1.8),1)\n",
    "           \n",
    "    print(strana[0],'-',C ,'C')\n"
   ]
  },
  {
   "cell_type": "code",
   "execution_count": 24,
   "metadata": {},
   "outputs": [
    {
     "name": "stdout",
     "output_type": "stream",
     "text": [
      "2018-01-01,user1,3,2018-01-07,user1,4,2018-03-29,user1,1,2018-04-04,user1,13,2018-01-05,user2,7,2018-06-14,user3,4,2018-07-02,user3,10,2018-03-21,user4,19,2018-03-22,user4,4,2018-04-22,user4,8,2018-05-03,user4,9,2018-05-11,user4,11\n",
      "['2018-01-01,user1,3', '2018-01-07,user1,4', '2018-03-29,user1,1', '2018-04-04,user1,13', '2018-01-05,user2,7', '2018-06-14,user3,4', '2018-07-02,user3,10', '2018-03-21,user4,19', '2018-03-22,user4,4', '2018-04-22,user4,8', '2018-05-03,user4,9', '2018-05-11,user4,11']\n",
      "<class 'list'>\n",
      "2\n",
      "user1 0\n",
      "user1 0\n",
      "user1 0\n",
      "user1 0\n",
      "user1 0\n",
      "user1 0\n",
      "user1 0\n",
      "user1 0\n",
      "user1 0\n",
      "user1 0\n",
      "user1 0\n",
      "user1 0\n"
     ]
    }
   ],
   "source": [
    "# Здача 5. Не успел допереть, как вытащить элемент без запятой.. если user или userview трехзначный\n",
    "stream = [\n",
    "'2018-01-01,user1,3',\n",
    "'2018-01-07,user1,4',\n",
    "'2018-03-29,user1,1',\n",
    "'2018-04-04,user1,13',\n",
    "'2018-01-05,user2,7',\n",
    "'2018-06-14,user3,4',\n",
    "'2018-07-02,user3,10',\n",
    "'2018-03-21,user4,19',\n",
    "'2018-03-22,user4,4',\n",
    "'2018-04-22,user4,8',\n",
    "'2018-05-03,user4,9',\n",
    "'2018-05-11,user4,11',\n",
    "]\n",
    "print(','.join(stream))\n",
    "\n",
    "print(stream[0][0])\n",
    "for user in stream:\n",
    "    userid = stream[0][11:16]\n",
    "    userview = sum(stream[0][-1:-2])\n",
    "    print(userid,userview)"
   ]
  }
 ],
 "metadata": {
  "kernelspec": {
   "display_name": "Python 3",
   "language": "python",
   "name": "python3"
  },
  "language_info": {
   "codemirror_mode": {
    "name": "ipython",
    "version": 3
   },
   "file_extension": ".py",
   "mimetype": "text/x-python",
   "name": "python",
   "nbconvert_exporter": "python",
   "pygments_lexer": "ipython3",
   "version": "3.8.3"
  }
 },
 "nbformat": 4,
 "nbformat_minor": 4
}
