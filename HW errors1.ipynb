{
 "cells": [
  {
   "cell_type": "markdown",
   "metadata": {},
   "source": [
    "# Задание 1 "
   ]
  },
  {
   "cell_type": "code",
   "execution_count": 30,
   "metadata": {},
   "outputs": [
    {
     "name": "stdout",
     "output_type": "stream",
     "text": [
      "2002-10-02 00:00:00\n"
     ]
    }
   ],
   "source": [
    "from datetime import datetime\n",
    "TheMoscowTimes = datetime.strptime('Wednesday, October 02, 2002', '%A, %B %d, %Y')\n",
    "print(TheMoscowTimes)"
   ]
  },
  {
   "cell_type": "code",
   "execution_count": 31,
   "metadata": {},
   "outputs": [
    {
     "name": "stdout",
     "output_type": "stream",
     "text": [
      "2013-10-11 00:00:00\n"
     ]
    }
   ],
   "source": [
    "from datetime import datetime\n",
    "TheGuardian = datetime.strptime('Friday, 11.10.13', '%A, %d.%m.%y')\n",
    "print(TheGuardian)"
   ]
  },
  {
   "cell_type": "code",
   "execution_count": 32,
   "metadata": {},
   "outputs": [
    {
     "name": "stdout",
     "output_type": "stream",
     "text": [
      "1977-08-18 00:00:00\n"
     ]
    }
   ],
   "source": [
    "from datetime import datetime\n",
    "DailyNews = datetime.strptime('Thursday, 18 August 1977', '%A, %d %B %Y')\n",
    "print(DailyNews)"
   ]
  },
  {
   "cell_type": "markdown",
   "metadata": {},
   "source": [
    "# Задание 2"
   ]
  },
  {
   "cell_type": "code",
   "execution_count": 5,
   "metadata": {},
   "outputs": [
    {
     "name": "stdout",
     "output_type": "stream",
     "text": [
      "2018-04-02 True\n",
      "2018-02-29 False\n",
      "2018-19-02 False\n"
     ]
    }
   ],
   "source": [
    "def main():\n",
    "    from datetime import datetime\n",
    "    stream = ['2018-04-02', '2018-02-29', '2018-19-02']\n",
    "    \n",
    "    for data in stream:\n",
    "        try:\n",
    "            a = datetime.strptime(data, '%Y-%m-%d')\n",
    "            print(data,'True')\n",
    "        except:\n",
    "            print(data,'False')\n",
    "main()"
   ]
  },
  {
   "cell_type": "markdown",
   "metadata": {},
   "source": [
    "# Задание 3"
   ]
  },
  {
   "cell_type": "code",
   "execution_count": 3,
   "metadata": {
    "scrolled": true
   },
   "outputs": [
    {
     "name": "stdout",
     "output_type": "stream",
     "text": [
      "Введите дату старта YYYY-MM-DD:2\n",
      "Введите дату окончания YYYY-MM-DD:2\n",
      "[]\n"
     ]
    }
   ],
   "source": [
    "from datetime import datetime\n",
    "from datetime import timedelta\n",
    "def main():\n",
    "    all_dt = []\n",
    "    try:\n",
    "        start_date = input('Введите дату старта YYYY-MM-DD:')\n",
    "        end_date = input('Введите дату окончания YYYY-MM-DD:')\n",
    "        \n",
    "        start_date_dt = datetime.strptime(start_date, '%Y-%m-%d')\n",
    "        end_date_dt = datetime.strptime(end_date, '%Y-%m-%d')\n",
    "        current_dt = start_date_dt\n",
    "        \n",
    "        while current_dt <= end_date_dt:\n",
    "            current_dt += timedelta(days=1)\n",
    "            all_dt.append(current_dt.strftime('%Y-%m-%d'))\n",
    "        print(all_dt)\n",
    "    except ValueError:\n",
    "        print(all_dt)\n",
    "main()"
   ]
  },
  {
   "cell_type": "markdown",
   "metadata": {},
   "source": [
    "#Задание 4\n",
    "\n",
    "Возможно, это происходит, потому что мы не создали копию оригинального списка или потому что из DEFAULT_USER_COUNT нужно каждый раз вычитать число удаленных элементов.\n",
    " IndexError: list index out of range значит, что индекс заданного элемента вне нашей области поиска (кэп), т.к. мы его удалили\n"
   ]
  }
 ],
 "metadata": {
  "kernelspec": {
   "display_name": "Python 3",
   "language": "python",
   "name": "python3"
  },
  "language_info": {
   "codemirror_mode": {
    "name": "ipython",
    "version": 3
   },
   "file_extension": ".py",
   "mimetype": "text/x-python",
   "name": "python",
   "nbconvert_exporter": "python",
   "pygments_lexer": "ipython3",
   "version": "3.8.3"
  }
 },
 "nbformat": 4,
 "nbformat_minor": 4
}
