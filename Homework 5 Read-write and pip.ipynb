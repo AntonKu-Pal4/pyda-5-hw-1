{
 "cells": [
  {
   "cell_type": "markdown",
   "metadata": {},
   "source": [
    "# Домашнее задание к лекции Работа с файловой системой и модули"
   ]
  },
  {
   "cell_type": "code",
   "execution_count": null,
   "metadata": {},
   "outputs": [],
   "source": [
    "#Задача 1\n",
    "\n",
    "import json\n",
    "slovar = {}\n",
    "\n",
    "with open('purchase_log.txt', 'r', encoding='utf-8') as f:\n",
    "    with open('purchase_log6.txt', 'w', encoding='utf-8') as f2write:\n",
    "        f.readline()\n",
    "        for line in f: \n",
    "            dict_ = json.loads(line.strip())  \n",
    "            if dict_['user_id'] not in slovar.keys(): #присваиваем значения и ключи в словаре соответственно условию\n",
    "                slovar[dict_['user_id']] = dict_['category']\n",
    "           \n",
    "            \n",
    "        f2write.write(str(slovar))\n"
   ]
  },
  {
   "cell_type": "code",
   "execution_count": 5,
   "metadata": {},
   "outputs": [],
   "source": [
    "#Задача 2\n",
    "\n",
    "with open('visit_log.csv', 'r', encoding = 'utf-8') as f_1:\n",
    "    with open('funnel1.csv', 'w', encoding = 'utf-8') as f2write:\n",
    "        for data in f_1:\n",
    "            data = data.strip('\\n').split(',')\n",
    "            if data[0] in slovar: #ищем визиты с указанием категории в нашем готовом словаре\n",
    "                category = slovar[data[0]]\n",
    "                f2write.write(f'{data}, {category}, \\n')\n",
    "                \n"
   ]
  }
 ],
 "metadata": {
  "kernelspec": {
   "display_name": "Python 3",
   "language": "python",
   "name": "python3"
  },
  "language_info": {
   "codemirror_mode": {
    "name": "ipython",
    "version": 3
   },
   "file_extension": ".py",
   "mimetype": "text/x-python",
   "name": "python",
   "nbconvert_exporter": "python",
   "pygments_lexer": "ipython3",
   "version": "3.8.3"
  }
 },
 "nbformat": 4,
 "nbformat_minor": 4
}
