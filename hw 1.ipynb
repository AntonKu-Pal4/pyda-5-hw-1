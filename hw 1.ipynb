{
 "cells": [
  {
   "cell_type": "code",
   "execution_count": 65,
   "metadata": {},
   "outputs": [
    {
     "name": "stdout",
     "output_type": "stream",
     "text": [
      "phrase_1= ыыыыыыыыыы\n",
      "phrase_2= ы\n",
      "Фраза 1 длиннее фразы 2\n"
     ]
    }
   ],
   "source": [
    "# Задание 1\n",
    "\n",
    "phrase_1 = input('phrase_1= ')\n",
    "phrase_2 = input('phrase_2= ')\n",
    "a = len(phrase_1)\n",
    "b = len(phrase_2)\n",
    "if a > b:\n",
    "    print('Фраза 1 длиннее фразы 2')\n",
    "elif a < b:\n",
    "    print('Фраза 2 длиннее фразы 1')\n",
    "elif     a == b:\n",
    "    print('Фразы равной длины')"
   ]
  },
  {
   "cell_type": "code",
   "execution_count": 66,
   "metadata": {},
   "outputs": [
    {
     "name": "stdout",
     "output_type": "stream",
     "text": [
      "year = 2000\n",
      "Високосный год\n"
     ]
    }
   ],
   "source": [
    "# Задание 2\n",
    "\n",
    "a = int(input('year = '))\n",
    "if 1000 <= a <= 9999:\n",
    "    if a % 4 == 0:\n",
    "        print('Високосный год')\n",
    "    else:\n",
    "        print('Обычный год')\n",
    "else:\n",
    "    print('неверная дата')"
   ]
  },
  {
   "cell_type": "code",
   "execution_count": 67,
   "metadata": {
    "scrolled": false
   },
   "outputs": [
    {
     "name": "stdout",
     "output_type": "stream",
     "text": [
      "Введите день:1\n",
      "Введите месяц:21\n",
      "Результат:\n",
      "Неверная дата\n"
     ]
    }
   ],
   "source": [
    "# Задание 3\n",
    "\n",
    "day = int(input('Введите день:'))\n",
    "month = int(input('Введите месяц:'))\n",
    "print('Результат:')\n",
    "if month == 3 and 21 <= day <= 31 or month == 4 and 1 <= day <= 20:\n",
    "    print('Ваш знак зодиака: Овен')\n",
    "elif month == 4 and 21 <= day <= 30 or month == 5 and 1 <= day <= 21:\n",
    "    print('Ваш знак зодиака: Телец')\n",
    "elif month == 5 and 22 <= day <= 31 or month == 6 and 1 <= day <= 21:\n",
    "    print('Ваш знак зодиака: Близнецы')\n",
    "elif month == 6 and 22 <= day <= 30 or month == 7 and 1 <= day <= 22:\n",
    "    print('Ваш знак зодиака: Рак')\n",
    "elif month == 7 and 23 <= day <= 31 or month == 8 and 1 <= day <= 23:\n",
    "    print('Ваш знак зодиака: Лев')\n",
    "elif month == 8 and 24 <= day <= 31 or month == 9 and 1 <= day <= 23:\n",
    "    print('Ваш знак зодиака: Дева')\n",
    "elif month == 9 and 24 <= day <= 30 or month == 10 and 1 <= day <= 23:\n",
    "    print('Ваш знак зодиака: Весы')\n",
    "elif month == 10 and 24 <= day <= 31 or month == 11 and 1 <= day <= 22:\n",
    "    print('Ваш знак зодиака: Скорпион')\n",
    "elif month == 11 and 23 <= day <= 30 or month == 12 and 1 <= day <= 21:\n",
    "    print('Ваш знак зодиака: Стрелец')\n",
    "elif month == 12 and 22 <= day <= 31 or month == 1 and 1 <= day <= 20:\n",
    "    print('Ваш знак зодиака: Козерог')\n",
    "elif month == 1 and 21 <= day <= 31 or month == 2 and 1 <= day <= 18:\n",
    "    print('Ваш знак зодиака: Водолей')\n",
    "elif month == 2 and 19 <= day <= 29 or month == 3 and 1 <= day <= 20:\n",
    "    print('Ваш знак зодиака: Рыбы')\n",
    "else:\n",
    "    print('Неверная дата')"
   ]
  },
  {
   "cell_type": "code",
   "execution_count": 68,
   "metadata": {},
   "outputs": [
    {
     "name": "stdout",
     "output_type": "stream",
     "text": [
      "width = 100\n",
      "length = 2\n",
      "height = 111\n",
      "Стандартная коробка №3\n"
     ]
    }
   ],
   "source": [
    "# Задание 4\n",
    "width = int(input('width = '))\n",
    "length = int(input('length = '))\n",
    "height = int(input('height = '))\n",
    "\n",
    "if width <= 15 and length <= 15 and height <= 15:\n",
    "    print('Коробка №1')\n",
    "elif length >= 200:\n",
    "    print('Упаковка для лыж')\n",
    "elif 15 < width <= 50 or 15 < length <= 50 or 15 < height <= 50:\n",
    "    print('Коробка №2')\n",
    "\n",
    "else:\n",
    "    print ('Стандартная коробка №3')"
   ]
  },
  {
   "cell_type": "code",
   "execution_count": 69,
   "metadata": {},
   "outputs": [
    {
     "name": "stdout",
     "output_type": "stream",
     "text": [
      "Введите номер билетика222060\n",
      "У вас счастливый билетик\n"
     ]
    }
   ],
   "source": [
    "# Задание 5 1-й вариант\n",
    "\n",
    "a = int(input('Введите номер билетика '))\n",
    "x = a // 1000 // 10 % 10 + a // 1000 % 100 % 10 + a // 1000 // 100\n",
    "y = a % 1000 // 10 % 10 + a % 1000 % 100 % 10 + a % 1000 // 100\n",
    "if x == y:\n",
    "\n",
    "    print ('У вас счастливый билетик')\n",
    "else: \n",
    "        print ('сегодня вам не повезло')"
   ]
  },
  {
   "cell_type": "code",
   "execution_count": 70,
   "metadata": {
    "scrolled": true
   },
   "outputs": [
    {
     "name": "stdout",
     "output_type": "stream",
     "text": [
      "Введите номер билетика 333222\n",
      "сегодня вам не повезло\n"
     ]
    }
   ],
   "source": [
    "# Задание 5 2-й вариант\n",
    "\n",
    "a = int(input('Введите номер билетика '))\n",
    "x = a // 1000\n",
    "y = a % 1000\n",
    "if ((x // 10) % 10 + (x % 100) % 10 + x // 100) == ((y // 10) % 10 + (y % 100) % 10 + y // 100):\n",
    "\n",
    "    print ('У вас счастливый билетик')\n",
    "else: \n",
    "        print ('сегодня вам не повезло')"
   ]
  },
  {
   "cell_type": "code",
   "execution_count": 64,
   "metadata": {},
   "outputs": [
    {
     "name": "stdout",
     "output_type": "stream",
     "text": [
      "Введите номер фигуры: круг = 1 , треугольник = 2: 4\n",
      "ERROR\n"
     ]
    }
   ],
   "source": [
    "# Задание 6\n",
    "x = int(input('Введите номер фигуры: круг = 1 , треугольник = 2: '))\n",
    "if x == 1:\n",
    "    r = int(input('Введите радиус круга, мм: '))\n",
    "    S = 3.141592653589793 * (r ** 2)\n",
    "    print('Площадь круга = ', S,'кв.мм')\n",
    "elif x == 2:\n",
    "    a = int(input('Введите длину стороны A, мм: '))\n",
    "    b = int(input('Введите длину стороны B, мм: '))\n",
    "    c = int(input('Введите длину стороны C, мм: '))\n",
    "    p = (a + b + c) / 2\n",
    "    S = (p * (p - a) * (p - b) * (p - c)) ** (1./2)\n",
    "    print('Площадь треугольника = ', S,'кв.мм')\n",
    "else:\n",
    "    print('ERROR')\n",
    "       "
   ]
  }
 ],
 "metadata": {
  "kernelspec": {
   "display_name": "Python 3",
   "language": "python",
   "name": "python3"
  },
  "language_info": {
   "codemirror_mode": {
    "name": "ipython",
    "version": 3
   },
   "file_extension": ".py",
   "mimetype": "text/x-python",
   "name": "python",
   "nbconvert_exporter": "python",
   "pygments_lexer": "ipython3",
   "version": "3.8.3"
  }
 },
 "nbformat": 4,
 "nbformat_minor": 4
}
