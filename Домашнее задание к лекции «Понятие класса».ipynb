{
 "cells": [
  {
   "cell_type": "markdown",
   "metadata": {},
   "source": [
    "# Задание 1-2"
   ]
  },
  {
   "cell_type": "code",
   "execution_count": null,
   "metadata": {},
   "outputs": [],
   "source": [
    "import requests"
   ]
  },
  {
   "cell_type": "code",
   "execution_count": 34,
   "metadata": {},
   "outputs": [],
   "source": [
    "class Rate:\n",
    "    def __init__(self, format_='diff'):\n",
    "        self.format = format_\n",
    "        \n",
    "        \n",
    "    def exchange_rates(self):\n",
    "        self.r = requests.get('https://www.cbr-xml-daily.ru/daily_json.js')\n",
    "        return self.r.json()['Valute']\n",
    "\n",
    "    def max_values(self):\n",
    "        max_value = 0\n",
    "        Name = []\n",
    "        for i in self.exchange_rates().values():\n",
    "            if i['Value']/i['Nominal'] > max_value:\n",
    "                max_value = i['Value']/i['Nominal']\n",
    "                Name = i['Name']\n",
    "        return print(Name, max_value)\n",
    "    \n",
    "    def make_format(self, currency):\n",
    "        response = self.exchange_rates()      \n",
    "        if currency in response:\n",
    "            if self.format == 'full':\n",
    "                return response[currency]\n",
    "            if self.format == 'diff':\n",
    "                return print((response[currency]['Value']/response[currency]['Previous']) - 1,'%')\n",
    "            \n",
    "        return 'Error'\n",
    "\n",
    "\n",
    "    def eur(self):\n",
    "        return self.make_format('EUR')\n",
    "    \n",
    "    def usd(self):\n",
    "        return self.make_format('USD')\n",
    "    \n",
    "    def brl(self):\n",
    "        return self.make_format('BRL')"
   ]
  },
  {
   "cell_type": "code",
   "execution_count": 35,
   "metadata": {},
   "outputs": [],
   "source": [
    "class Rate:\n",
    "    def __init__(self, format_='diff'):\n",
    "        self.format = format_\n",
    "        \n",
    "    def exchange_rates(self):\n",
    "        self.r = requests.get('https://www.cbr-xml-daily.ru/daily_json.js')\n",
    "        return self.r.json()['Valute']\n",
    "\n",
    "    def max_values(self):\n",
    "        max_value = 0\n",
    "        Name = []\n",
    "        for i in self.exchange_rates().values():\n",
    "            if i['Value']/i['Nominal'] > max_value: \n",
    "                max_value = i['Value']/i['Nominal'] # узнаем ценность валюты за 1 единицу\n",
    "                Name = i['Name']\n",
    "        return print(Name, max_value)\n",
    "    \n",
    "    def make_format(self, currency):\n",
    "        response = self.exchange_rates()      \n",
    "        if currency in response:\n",
    "            if self.format == 'full':\n",
    "                return response[currency]\n",
    "            if self.format == 'diff': \n",
    "                return print((response[currency]['Value']/response[currency]['Previous']) - 1,'%')\n",
    "            \n",
    "        return 'Error'\n",
    "\n",
    "    def eur(self):\n",
    "        return self.make_format('EUR')\n",
    "    \n",
    "    def usd(self):\n",
    "        return self.make_format('USD')\n",
    "    \n",
    "    def brl(self):\n",
    "        return self.make_format('BRL')"
   ]
  },
  {
   "cell_type": "code",
   "execution_count": 48,
   "metadata": {},
   "outputs": [],
   "source": [
    "r = Rate('diff')"
   ]
  },
  {
   "cell_type": "code",
   "execution_count": 49,
   "metadata": {},
   "outputs": [
    {
     "name": "stdout",
     "output_type": "stream",
     "text": [
      "0.012168008012558795 %\n"
     ]
    }
   ],
   "source": [
    "r.brl()\n"
   ]
  },
  {
   "cell_type": "code",
   "execution_count": 50,
   "metadata": {},
   "outputs": [
    {
     "name": "stdout",
     "output_type": "stream",
     "text": [
      "-0.0017579319904901247 %\n"
     ]
    }
   ],
   "source": [
    "r.eur()"
   ]
  },
  {
   "cell_type": "code",
   "execution_count": 51,
   "metadata": {},
   "outputs": [
    {
     "name": "stdout",
     "output_type": "stream",
     "text": [
      "СДР (специальные права заимствования) 108.223\n"
     ]
    }
   ],
   "source": [
    "r.max_values()"
   ]
  },
  {
   "cell_type": "code",
   "execution_count": 52,
   "metadata": {
    "scrolled": false
   },
   "outputs": [
    {
     "name": "stdout",
     "output_type": "stream",
     "text": [
      "-0.004277864477463145 %\n"
     ]
    }
   ],
   "source": [
    "r.usd()"
   ]
  },
  {
   "cell_type": "markdown",
   "metadata": {},
   "source": [
    "# Задание 3"
   ]
  },
  {
   "cell_type": "code",
   "execution_count": 25,
   "metadata": {},
   "outputs": [],
   "source": [
    "class Employee:\n",
    "    def __init__(self, name, seniority, prize):\n",
    "        self.name = name\n",
    "        self.seniority = seniority\n",
    "        self.prize = prize\n",
    "        self.grade = 1\n",
    "    \n",
    "    def grade_up(self):\n",
    "        \"\"\"Повышает уровень сотрудника\"\"\"\n",
    "        self.grade += 1\n",
    "    \n",
    "    def publish_grade(self):\n",
    "        \"\"\"Публикация результатов аккредитации сотрудников\"\"\"\n",
    "        print(self.name, self.grade)\n",
    "    \n",
    "    def check_if_it_is_time_for_upgrade(self):\n",
    "        pass"
   ]
  },
  {
   "cell_type": "code",
   "execution_count": 29,
   "metadata": {},
   "outputs": [],
   "source": [
    "class Designer(Employee):\n",
    "    def __init__(self, name, seniority, prize):\n",
    "        super().__init__(name, seniority, prize)\n",
    "        self.prize = 2 # число премий\n",
    "        self.seniority = self.prize * 2 + self.seniority # Добавляем по 2 балла за каждую премию\n",
    "        if self.seniority >= 7: # учитываем случай, когда у дизайнера больше 5 сертификатов и премия\n",
    "            self.grade = 2\n",
    "    def check_if_it_is_time_for_upgrade(self):\n",
    "        \n",
    "        self.seniority += 1\n",
    "        \n",
    "        if self.seniority % 7 == 0:\n",
    "            self.grade_up()\n",
    "            \n",
    "        return self.publish_grade()"
   ]
  },
  {
   "cell_type": "code",
   "execution_count": 30,
   "metadata": {},
   "outputs": [],
   "source": [
    "alex = Designer('Степан', 6, 1)"
   ]
  },
  {
   "cell_type": "code",
   "execution_count": 31,
   "metadata": {},
   "outputs": [
    {
     "name": "stdout",
     "output_type": "stream",
     "text": [
      "Степан 2\n",
      "Степан 2\n",
      "Степан 2\n",
      "Степан 3\n",
      "Степан 3\n",
      "Степан 3\n",
      "Степан 3\n",
      "Степан 3\n",
      "Степан 3\n",
      "Степан 3\n",
      "Степан 4\n",
      "Степан 4\n",
      "Степан 4\n",
      "Степан 4\n",
      "Степан 4\n",
      "Степан 4\n",
      "Степан 4\n",
      "Степан 5\n",
      "Степан 5\n",
      "Степан 5\n",
      "Степан 5\n"
     ]
    }
   ],
   "source": [
    "for i in range(21):\n",
    "    alex.check_if_it_is_time_for_upgrade()"
   ]
  },
  {
   "cell_type": "code",
   "execution_count": null,
   "metadata": {},
   "outputs": [],
   "source": []
  },
  {
   "cell_type": "code",
   "execution_count": null,
   "metadata": {},
   "outputs": [],
   "source": []
  }
 ],
 "metadata": {
  "kernelspec": {
   "display_name": "Python 3",
   "language": "python",
   "name": "python3"
  },
  "language_info": {
   "codemirror_mode": {
    "name": "ipython",
    "version": 3
   },
   "file_extension": ".py",
   "mimetype": "text/x-python",
   "name": "python",
   "nbconvert_exporter": "python",
   "pygments_lexer": "ipython3",
   "version": "3.8.3"
  }
 },
 "nbformat": 4,
 "nbformat_minor": 4
}
