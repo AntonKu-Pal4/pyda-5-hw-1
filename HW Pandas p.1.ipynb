{
 "cells": [
  {
   "cell_type": "markdown",
   "metadata": {},
   "source": [
    "# Домашнее задание «Библиотека Pandas»"
   ]
  },
  {
   "cell_type": "markdown",
   "metadata": {},
   "source": [
    "# Задание 1"
   ]
  },
  {
   "cell_type": "code",
   "execution_count": 2,
   "metadata": {},
   "outputs": [],
   "source": [
    "import pandas as pd"
   ]
  },
  {
   "cell_type": "code",
   "execution_count": 3,
   "metadata": {},
   "outputs": [
    {
     "data": {
      "text/plain": [
       "318       48762\n",
       "296       37458\n",
       "356       32009\n",
       "260       31385\n",
       "593       30280\n",
       "          ...  \n",
       "116080        1\n",
       "72537         1\n",
       "82770         1\n",
       "86864         1\n",
       "152127        1\n",
       "Name: movieId, Length: 24209, dtype: int64"
      ]
     },
     "execution_count": 3,
     "metadata": {},
     "output_type": "execute_result"
    }
   ],
   "source": [
    "data = pd.read_csv('pandas movies/ratings.csv')\n",
    "\n",
    "data.head(30)\n",
    "\n",
    "data[ data['rating'] == 5.0 ]['movieId'].value_counts()"
   ]
  },
  {
   "cell_type": "code",
   "execution_count": 4,
   "metadata": {},
   "outputs": [
    {
     "data": {
      "text/plain": [
       "315    Shawshank Redemption, The (1994)\n",
       "Name: title, dtype: object"
      ]
     },
     "execution_count": 4,
     "metadata": {},
     "output_type": "execute_result"
    }
   ],
   "source": [
    "datamov = pd.read_csv('pandas movies/movies.csv')\n",
    "datamov[ datamov['movieId'] == 318 ]['title'].head()"
   ]
  },
  {
   "cell_type": "markdown",
   "metadata": {},
   "source": [
    "# Задание 2"
   ]
  },
  {
   "cell_type": "code",
   "execution_count": 5,
   "metadata": {},
   "outputs": [
    {
     "name": "stdout",
     "output_type": "stream",
     "text": [
      "Суммарное потребление стран Прибалтики = 240580.0\n"
     ]
    }
   ],
   "source": [
    "data = pd.read_csv('power.csv')\n",
    "\n",
    "filtred_countries = ((data['country']=='Lithuania') | (data['country']=='Latvia') | (data['country']=='Estonia'))\n",
    "\n",
    "filtred_categories = ((data['category']==4) | (data['category']==12) | (data['category']==21))\n",
    "\n",
    "filtred_years = ((data['year']==2005) | (data['year']==2006) | (data['year']==2007) | (data['year']==2008) | (data['year']==2009) | (data['year']==2010))\n",
    "\n",
    "filtred_quanitity = (data['quantity'] > 0)\n",
    "\n",
    "filtred_all = data[ filtred_countries & filtred_categories & filtred_years & filtred_quanitity ]\n",
    "\n",
    "\n",
    "print('Суммарное потребление стран Прибалтики =', sum(filtred_all['quantity']))\n"
   ]
  },
  {
   "cell_type": "markdown",
   "metadata": {},
   "source": [
    "# Задание 3"
   ]
  },
  {
   "cell_type": "code",
   "execution_count": 8,
   "metadata": {},
   "outputs": [],
   "source": [
    "page_url = 'http://mfd.ru/centrobank/preciousmetals/'\n",
    "\n",
    "\n",
    "df = pd.read_html(page_url, attrs = {'class': 'mfd-table'}, encoding='utf-8')"
   ]
  },
  {
   "cell_type": "code",
   "execution_count": 9,
   "metadata": {},
   "outputs": [
    {
     "data": {
      "text/html": [
       "<div>\n",
       "<style scoped>\n",
       "    .dataframe tbody tr th:only-of-type {\n",
       "        vertical-align: middle;\n",
       "    }\n",
       "\n",
       "    .dataframe tbody tr th {\n",
       "        vertical-align: top;\n",
       "    }\n",
       "\n",
       "    .dataframe thead th {\n",
       "        text-align: right;\n",
       "    }\n",
       "</style>\n",
       "<table border=\"1\" class=\"dataframe\">\n",
       "  <thead>\n",
       "    <tr style=\"text-align: right;\">\n",
       "      <th></th>\n",
       "      <th>Дата</th>\n",
       "      <th>Золото руб./грамм</th>\n",
       "      <th>Серебро руб./грамм</th>\n",
       "      <th>Платина руб./грамм</th>\n",
       "      <th>Палладий руб./грамм</th>\n",
       "    </tr>\n",
       "  </thead>\n",
       "  <tbody>\n",
       "    <tr>\n",
       "      <th>0</th>\n",
       "      <td>02.12.2020</td>\n",
       "      <td>4407.43</td>\n",
       "      <td>54.35</td>\n",
       "      <td>2409.59</td>\n",
       "      <td>5889.01</td>\n",
       "    </tr>\n",
       "    <tr>\n",
       "      <th>1</th>\n",
       "      <td>01.12.2020</td>\n",
       "      <td>4341.07</td>\n",
       "      <td>56.68</td>\n",
       "      <td>2359.24</td>\n",
       "      <td>5889.52</td>\n",
       "    </tr>\n",
       "    <tr>\n",
       "      <th>2</th>\n",
       "      <td>28.11.2020</td>\n",
       "      <td>4409.74</td>\n",
       "      <td>56.97</td>\n",
       "      <td>2336.51</td>\n",
       "      <td>5829.09</td>\n",
       "    </tr>\n",
       "    <tr>\n",
       "      <th>3</th>\n",
       "      <td>27.11.2020</td>\n",
       "      <td>4402.52</td>\n",
       "      <td>56.79</td>\n",
       "      <td>2336.07</td>\n",
       "      <td>5732.24</td>\n",
       "    </tr>\n",
       "    <tr>\n",
       "      <th>4</th>\n",
       "      <td>26.11.2020</td>\n",
       "      <td>4388.45</td>\n",
       "      <td>56.19</td>\n",
       "      <td>2339.15</td>\n",
       "      <td>5670.73</td>\n",
       "    </tr>\n",
       "    <tr>\n",
       "      <th>5</th>\n",
       "      <td>25.11.2020</td>\n",
       "      <td>4431.61</td>\n",
       "      <td>58.27</td>\n",
       "      <td>2283.93</td>\n",
       "      <td>5689.11</td>\n",
       "    </tr>\n",
       "    <tr>\n",
       "      <th>6</th>\n",
       "      <td>24.11.2020</td>\n",
       "      <td>4539.73</td>\n",
       "      <td>58.86</td>\n",
       "      <td>2313.95</td>\n",
       "      <td>5687.45</td>\n",
       "    </tr>\n",
       "    <tr>\n",
       "      <th>7</th>\n",
       "      <td>21.11.2020</td>\n",
       "      <td>4562.65</td>\n",
       "      <td>58.60</td>\n",
       "      <td>2324.09</td>\n",
       "      <td>5706.37</td>\n",
       "    </tr>\n",
       "    <tr>\n",
       "      <th>8</th>\n",
       "      <td>20.11.2020</td>\n",
       "      <td>4554.16</td>\n",
       "      <td>59.62</td>\n",
       "      <td>2304.79</td>\n",
       "      <td>5678.60</td>\n",
       "    </tr>\n",
       "    <tr>\n",
       "      <th>9</th>\n",
       "      <td>19.11.2020</td>\n",
       "      <td>4582.44</td>\n",
       "      <td>60.12</td>\n",
       "      <td>2279.99</td>\n",
       "      <td>5712.18</td>\n",
       "    </tr>\n",
       "  </tbody>\n",
       "</table>\n",
       "</div>"
      ],
      "text/plain": [
       "         Дата  Золото руб./грамм  Серебро руб./грамм  Платина руб./грамм  \\\n",
       "0  02.12.2020            4407.43               54.35             2409.59   \n",
       "1  01.12.2020            4341.07               56.68             2359.24   \n",
       "2  28.11.2020            4409.74               56.97             2336.51   \n",
       "3  27.11.2020            4402.52               56.79             2336.07   \n",
       "4  26.11.2020            4388.45               56.19             2339.15   \n",
       "5  25.11.2020            4431.61               58.27             2283.93   \n",
       "6  24.11.2020            4539.73               58.86             2313.95   \n",
       "7  21.11.2020            4562.65               58.60             2324.09   \n",
       "8  20.11.2020            4554.16               59.62             2304.79   \n",
       "9  19.11.2020            4582.44               60.12             2279.99   \n",
       "\n",
       "   Палладий руб./грамм  \n",
       "0              5889.01  \n",
       "1              5889.52  \n",
       "2              5829.09  \n",
       "3              5732.24  \n",
       "4              5670.73  \n",
       "5              5689.11  \n",
       "6              5687.45  \n",
       "7              5706.37  \n",
       "8              5678.60  \n",
       "9              5712.18  "
      ]
     },
     "execution_count": 9,
     "metadata": {},
     "output_type": "execute_result"
    }
   ],
   "source": [
    "df[0].head(10)"
   ]
  },
  {
   "cell_type": "code",
   "execution_count": null,
   "metadata": {},
   "outputs": [],
   "source": []
  },
  {
   "cell_type": "code",
   "execution_count": null,
   "metadata": {},
   "outputs": [],
   "source": []
  }
 ],
 "metadata": {
  "kernelspec": {
   "display_name": "Python 3",
   "language": "python",
   "name": "python3"
  },
  "language_info": {
   "codemirror_mode": {
    "name": "ipython",
    "version": 3
   },
   "file_extension": ".py",
   "mimetype": "text/x-python",
   "name": "python",
   "nbconvert_exporter": "python",
   "pygments_lexer": "ipython3",
   "version": "3.8.3"
  }
 },
 "nbformat": 4,
 "nbformat_minor": 4
}
