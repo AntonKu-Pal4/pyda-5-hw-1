{
 "cells": [
  {
   "cell_type": "markdown",
   "metadata": {},
   "source": [
    "# Домашнее задание к лекции \"Регулярные выражения\""
   ]
  },
  {
   "cell_type": "code",
   "execution_count": 10,
   "metadata": {},
   "outputs": [
    {
     "name": "stdout",
     "output_type": "stream",
     "text": [
      "Номер А111АА99 валиден. Регион: 99\n",
      "Номер не валиден\n",
      "Номер А777МР777 валиден. Регион: 777\n"
     ]
    }
   ],
   "source": [
    "# Задача 1\n",
    "\n",
    "import re\n",
    "\n",
    "number = ['А111АА99', 'У22ФЫ96','А777МР777']\n",
    "\n",
    "number_pattern = r'[АВЕКМНОРСТУХ]{1}\\d{3}[АВЕКМНОРСТУХ]{2}\\d{2,3}'\n",
    "\n",
    "for car_id in number:\n",
    "    if re.findall(number_pattern, car_id):\n",
    "        print('Номер', car_id, 'валиден. Регион:', car_id[6:])\n",
    "    else:\n",
    "        print('Номер не валиден')\n"
   ]
  },
  {
   "cell_type": "code",
   "execution_count": 11,
   "metadata": {},
   "outputs": [
    {
     "data": {
      "text/plain": [
       "'Напишите функцию, которая будет удалять все последовательные повторы слов из заданной строки при помощи регулярных выражений.'"
      ]
     },
     "execution_count": 11,
     "metadata": {},
     "output_type": "execute_result"
    }
   ],
   "source": [
    "# Задача 2\n",
    "\n",
    "some_string = 'Напишите функцию функцию, которая будет будет будет будет удалять все все все все последовательные повторы слов из из из из заданной строки строки при помощи регулярных выражений.'\n",
    "\n",
    "\n",
    "re.sub(r'(\\w+)(\\s\\1)+', r'\\1', some_string)\n"
   ]
  },
  {
   "cell_type": "code",
   "execution_count": 14,
   "metadata": {},
   "outputs": [
    {
     "data": {
      "text/plain": [
       "'ИТ'"
      ]
     },
     "execution_count": 14,
     "metadata": {},
     "output_type": "execute_result"
    }
   ],
   "source": [
    "# Задача 3\n",
    "\n",
    "some_words = 'Информационные технологии'\n",
    "\n",
    "re.sub(r'([A-Za-zА-Яа-я])[A-Za-zА-Яа-я]+\\s*', r'\\1', some_words).upper()\n"
   ]
  },
  {
   "cell_type": "code",
   "execution_count": 15,
   "metadata": {},
   "outputs": [
    {
     "name": "stdout",
     "output_type": "stream",
     "text": [
      "gmail.com : 2\n",
      "test.in : 1\n",
      "ya.ru : 2\n",
      "mail.ru : 1\n"
     ]
    }
   ],
   "source": [
    "# Задача 4\n",
    "\n",
    "import re\n",
    "\n",
    "emails = ['test@gmail.com', 'xyz@test.in', 'test@ya.ru', 'xyz@mail.ru', 'xyz@ya.ru', 'xyz@gmail.com']\n",
    "mail = []\n",
    "\n",
    "for name in emails:\n",
    "    \n",
    "    domen = re.sub(r'([a-z]+)@+(\\w)', r'\\2', name)\n",
    "    mail += [domen, ]\n",
    "\n",
    "result = {i: mail.count(i) for i in mail}\n",
    "for i, k in result.items():\n",
    "    print(i, ':', k)\n"
   ]
  },
  {
   "cell_type": "code",
   "execution_count": null,
   "metadata": {},
   "outputs": [],
   "source": []
  }
 ],
 "metadata": {
  "kernelspec": {
   "display_name": "Python 3",
   "language": "python",
   "name": "python3"
  },
  "language_info": {
   "codemirror_mode": {
    "name": "ipython",
    "version": 3
   },
   "file_extension": ".py",
   "mimetype": "text/x-python",
   "name": "python",
   "nbconvert_exporter": "python",
   "pygments_lexer": "ipython3",
   "version": "3.8.3"
  }
 },
 "nbformat": 4,
 "nbformat_minor": 4
}
